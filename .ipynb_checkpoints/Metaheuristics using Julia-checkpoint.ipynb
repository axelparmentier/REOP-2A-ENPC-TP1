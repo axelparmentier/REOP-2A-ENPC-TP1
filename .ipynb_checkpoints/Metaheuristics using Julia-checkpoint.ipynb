{
 "cells": [
  {
   "cell_type": "markdown",
   "metadata": {},
   "source": [
    "# Quick introduction to Julia\n",
    "\n",
    "(Courtesy from Vincent Leclère)"
   ]
  },
  {
   "cell_type": "markdown",
   "metadata": {},
   "source": [
    "## What is a Jupyter notebook ?\n",
    "\n",
    "A Jupyter notebook is a document that contains\n",
    "+ text\n",
    "  - that can be formatted using Markdown\n",
    "  - that can contains maths using $\\LaTeX$\n",
    "+ code\n",
    "  - and we can interact with this\n",
    "  \n",
    "Un notebook is a succession of cells, each containing code or text. :\n",
    "+ double-click to edit a cell\n",
    "+ Ctrl-enter to execute a cell\n",
    "+ shift-enter to execute a cell and go to the next one\n",
    "+ Alt-enter to execute a cell and create a new one\n",
    "\n",
    "You can download your project as an .ipynb file"
   ]
  },
  {
   "cell_type": "markdown",
   "metadata": {},
   "source": [
    "## What is JuliaBox ?\n",
    "\n",
    "JuliaBox is a website giving you a session with Julia and Jupyter installed. You can therefore use these softwares without installing them on your computer.\n",
    "\n",
    "Attention, la session offert par JuliaBox dure 3h, au bout desquelles les calculs effectués sont perdus (mais pas le code). Donc, si d'un seul coup vous voyez des variables non-définies : pas d'affolement, il suffit de relancer le kernel (barre du haut) et recharger les cellules précédente."
   ]
  },
  {
   "cell_type": "markdown",
   "metadata": {},
   "source": [
    "## What is Julia ?\n",
    "​\n",
    "Julia is a recent programming language. It can be compared to python but desgined for scientific commputing and much faster in practice \n",
    "\n",
    "​\n",
    "Try to execute an modify the following cells:"
   ]
  },
  {
   "cell_type": "code",
   "execution_count": 1,
   "metadata": {},
   "outputs": [
    {
     "data": {
      "text/plain": [
       "2"
      ]
     },
     "execution_count": 1,
     "metadata": {},
     "output_type": "execute_result"
    }
   ],
   "source": [
    "1+1"
   ]
  },
  {
   "cell_type": "code",
   "execution_count": 2,
   "metadata": {},
   "outputs": [
    {
     "data": {
      "text/plain": [
       "0"
      ]
     },
     "execution_count": 2,
     "metadata": {},
     "output_type": "execute_result"
    }
   ],
   "source": [
    "a = [0, 5, 10, 15]\n",
    "a[1]"
   ]
  },
  {
   "cell_type": "code",
   "execution_count": 3,
   "metadata": {},
   "outputs": [
    {
     "data": {
      "text/plain": [
       "4"
      ]
     },
     "execution_count": 3,
     "metadata": {},
     "output_type": "execute_result"
    }
   ],
   "source": [
    "length(a)"
   ]
  },
  {
   "cell_type": "code",
   "execution_count": 4,
   "metadata": {},
   "outputs": [
    {
     "name": "stdout",
     "output_type": "stream",
     "text": [
      "iteration 1\n",
      "iteration 2\n",
      "iteration 3\n",
      "iteration 4\n",
      "iteration 5\n"
     ]
    }
   ],
   "source": [
    "for i = 1:5\n",
    "    println(\"iteration \",i)\n",
    "end"
   ]
  },
  {
   "cell_type": "code",
   "execution_count": 5,
   "metadata": {},
   "outputs": [
    {
     "name": "stdout",
     "output_type": "stream",
     "text": [
      "1\n",
      "2\n",
      "4\n",
      "8\n",
      "16\n",
      "32\n",
      "64\n"
     ]
    }
   ],
   "source": [
    "k = 1\n",
    "while k < 100\n",
    "    println(k)\n",
    "    k *= 2\n",
    "end"
   ]
  },
  {
   "cell_type": "code",
   "execution_count": 6,
   "metadata": {},
   "outputs": [
    {
     "data": {
      "text/plain": [
       "factorial (generic function with 1 method)"
      ]
     },
     "execution_count": 6,
     "metadata": {},
     "output_type": "execute_result"
    }
   ],
   "source": [
    "function factorial(n::Int)::Int\n",
    "    res = 1\n",
    "    for i=1:n\n",
    "        res = res * i\n",
    "    end\n",
    "    return res\n",
    "end"
   ]
  },
  {
   "cell_type": "code",
   "execution_count": 7,
   "metadata": {},
   "outputs": [
    {
     "data": {
      "text/plain": [
       "120"
      ]
     },
     "execution_count": 7,
     "metadata": {},
     "output_type": "execute_result"
    }
   ],
   "source": [
    "factorial(5)"
   ]
  },
  {
   "cell_type": "markdown",
   "metadata": {},
   "source": [
    "# Facility Location problem"
   ]
  },
  {
   "cell_type": "markdown",
   "metadata": {},
   "source": [
    "Consider the facility location problem with $N$ clients, $M$ facilities, among which $p$ should be chosen. The matrix $(d_{ij})$ gives the distance from client $i$ to facility $j$.\n",
    "\n",
    "\\begin{eqnarray}\n",
    "\\min f(x,y) &=& \\sum_{i=1}^N \\sum_{i=1}^M d_{ij} x_{ij} \\\\\n",
    "\\text{s.c. } \\sum_{j=1}^M y_j &= &p\\\\\n",
    "\\sum_{j=1}^M x_{ij} &=& 1 \\quad \\forall i=1,\\cdots ,N \\\\\n",
    "x_{ij} &\\leq & y_j \\quad \\forall i=1,\\cdots ,N; j=1,\\cdots ,M \\\\\n",
    "x_{ij} &\\geq & 0 \\quad \\forall  i=1,\\cdots ,N; j=1,\\cdots ,M \\\\\n",
    "y_j & \\in & \\{0,1\\}  \\quad \\forall  j=1,\\cdots ,M\n",
    "\\end{eqnarray}"
   ]
  },
  {
   "cell_type": "markdown",
   "metadata": {},
   "source": [
    "## Parse instances \n",
    "\n",
    "The following function enables to read an instance"
   ]
  },
  {
   "cell_type": "code",
   "execution_count": 8,
   "metadata": {},
   "outputs": [
    {
     "data": {
      "text/plain": [
       "parseInput (generic function with 1 method)"
      ]
     },
     "execution_count": 8,
     "metadata": {},
     "output_type": "execute_result"
    }
   ],
   "source": [
    "function parseInput(filename::String)::Tuple{Int, Int, Int, Vector{Vector{Int}}}\n",
    "    file_l = open(filename)     \n",
    "    firstline = readline(file_l)\n",
    "    nbClients, nbFacilities, nbOpened = map(x->parse(Int,x), split(firstline, \" \"))\n",
    "    distances = Vector{Vector{Int64}}(undef, nbClients)\n",
    "    for line in enumerate(eachline(file_l))\n",
    "        client = line[1]\n",
    "        vl = split(line[2], \" \")\n",
    "        fromClientToFacilities = map(x->parse(Int,x), vl[1:nbClients])\n",
    "        distances[client] = fromClientToFacilities\n",
    "    end\n",
    "    close(file_l)\n",
    "    return (nbClients, nbFacilities, nbOpened, distances)\n",
    "end "
   ]
  },
  {
   "cell_type": "markdown",
   "metadata": {},
   "source": [
    "## Local search"
   ]
  },
  {
   "cell_type": "markdown",
   "metadata": {},
   "source": [
    "#### Compute cost "
   ]
  },
  {
   "cell_type": "code",
   "execution_count": 9,
   "metadata": {},
   "outputs": [
    {
     "data": {
      "text/plain": [
       "computeCost (generic function with 1 method)"
      ]
     },
     "execution_count": 9,
     "metadata": {},
     "output_type": "execute_result"
    }
   ],
   "source": [
    "function computeClientCost(\n",
    "        client::Int, isOpened::Vector{Bool},\n",
    "        nearestFac::Vector{Vector{Int}}, distances::Vector{Vector{Int}}\n",
    "    )::Int\n",
    "    for fac in nearestFac[client]\n",
    "        if isOpened[fac]\n",
    "           return distances[client][fac] \n",
    "        end\n",
    "    end\n",
    "end\n",
    "\n",
    "function computeCost(\n",
    "        isOpened::Vector{Bool},\n",
    "        nearestFac::Vector{Vector{Int}}, distances::Vector{Vector{Int}}\n",
    "    )::Int\n",
    "    totalCost::Int = 0\n",
    "    for client in 1:length(distances)\n",
    "       totalCost += computeClientCost(client, isOpened, nearestFac, distances) \n",
    "    end\n",
    "    return totalCost\n",
    "end"
   ]
  },
  {
   "cell_type": "markdown",
   "metadata": {},
   "source": [
    "#### Data structure used by the heuristic"
   ]
  },
  {
   "cell_type": "code",
   "execution_count": 10,
   "metadata": {},
   "outputs": [],
   "source": [
    "mutable struct Ls_data \n",
    "\n",
    "    # Instance description\n",
    "    nbClients::Int\n",
    "    nbFacilities::Int\n",
    "    nbOpened::Int\n",
    "    distances::Vector{Vector{Int64}}\n",
    "    nearestFacilitiesOfClient::Vector{Vector{Int}}\n",
    "\n",
    "    # Current solution\n",
    "    isOpened::Vector{Bool}\n",
    "    cost::Int\n",
    "    \n",
    "    # Best solution\n",
    "    bestIsOpened::Vector{Int}\n",
    "    bestCost::Int\n",
    "\n",
    "    # Constructor\n",
    "    function Ls_data(nbOpened_l, distances_l)\n",
    "        nbClients = length(distances_l)\n",
    "        nbFacilities = length(distances_l)\n",
    "        nbOpened = nbOpened_l\n",
    "        distances = distances_l\n",
    "        nearestFacilitiesOfClient = [sortperm(distances[i]) for i in 1:nbClients]\n",
    "        \n",
    "        isOpened = [j <= nbOpened for j in 1:nbFacilities]\n",
    "        cost = computeCost(isOpened, nearestFacilitiesOfClient, distances)\n",
    "\n",
    "        bestIsOpened = isOpened\n",
    "        bestCost = cost\n",
    "    \n",
    "        new(\n",
    "            nbClients,\n",
    "            nbFacilities,\n",
    "            nbOpened,\n",
    "            distances,\n",
    "            nearestFacilitiesOfClient,\n",
    "            isOpened,\n",
    "            cost,\n",
    "            bestIsOpened,\n",
    "            bestCost\n",
    "        )\n",
    "    end\n",
    "end\n"
   ]
  },
  {
   "cell_type": "markdown",
   "metadata": {},
   "source": [
    "#### Swap neighborhood (non-incremental eveluation) and local descent algorithm"
   ]
  },
  {
   "cell_type": "code",
   "execution_count": 11,
   "metadata": {},
   "outputs": [
    {
     "data": {
      "text/plain": [
       "localDescent! (generic function with 1 method)"
      ]
     },
     "execution_count": 11,
     "metadata": {},
     "output_type": "execute_result"
    }
   ],
   "source": [
    "function swap!(i::Int, j::Int, data::Ls_data)::Int\n",
    "    if data.isOpened[i] == data.isOpened[j]\n",
    "        error(\"Facilities $i and $j are both opened or both closed.\")\n",
    "    end\n",
    "    previous_cost = data.cost\n",
    "    data.isOpened[i] = !data.isOpened[i]\n",
    "    data.isOpened[j] = !data.isOpened[j]\n",
    "    data.cost = computeCost(data.isOpened, data.nearestFacilitiesOfClient, data.distances)\n",
    "    return data.cost - previous_cost\n",
    "end\n",
    "\n",
    "function performFirstImprovingSwap!(data::Ls_data)\n",
    "    for i in 1:(data.nbFacilities - 1)\n",
    "        for j in (i+1):nbFacilities\n",
    "            if data.isOpened[i] != data.isOpened[j]\n",
    "                if swap!(i, j, data) < 0\n",
    "                    return true\n",
    "                else\n",
    "                    swap!(i, j, data)\n",
    "                end\n",
    "            end\n",
    "        end\n",
    "    end\n",
    "    return false\n",
    "end\n",
    "\n",
    "function localDescent!(data::Ls_data)\n",
    "   println(\"Initial cost: \", data.cost)\n",
    "    i = 0\n",
    "    while(performFirstImprovingSwap!(data))\n",
    "        i += 1\n",
    "        if i%10 == 0\n",
    "            println(i, \" iterations\")\n",
    "        end\n",
    "    end\n",
    "    println(\"End of local descent\")\n",
    "    println(i, \" iterations\")\n",
    "    println(\"Final cost: \", data.cost)\n",
    "end"
   ]
  },
  {
   "cell_type": "markdown",
   "metadata": {},
   "source": [
    "#### Launching the Local Descent"
   ]
  },
  {
   "cell_type": "code",
   "execution_count": 12,
   "metadata": {},
   "outputs": [
    {
     "data": {
      "text/plain": [
       "(800, 800, 5, [[0, 31, 21, 24, 14, 24, 27, 15, 23, 21  …  16, 28, 22, 25, 23, 17, 16, 19, 18, 29], [31, 0, 28, 29, 25, 30, 38, 24, 33, 31  …  32, 35, 29, 28, 31, 38, 30, 29, 23, 60], [21, 28, 0, 17, 17, 24, 34, 16, 31, 28  …  23, 31, 29, 18, 27, 19, 27, 25, 20, 50], [24, 29, 17, 0, 22, 22, 37, 21, 27, 24  …  20, 30, 18, 27, 28, 25, 23, 25, 19, 53], [14, 25, 17, 22, 0, 18, 28, 1, 21, 20  …  20, 25, 23, 21, 16, 15, 22, 19, 7, 43], [24, 30, 24, 22, 18, 0, 32, 19, 27, 27  …  26, 24, 28, 28, 28, 26, 23, 23, 20, 53], [27, 38, 34, 37, 28, 32, 0, 28, 38, 33  …  36, 28, 35, 32, 39, 30, 22, 34, 24, 56], [15, 24, 16, 21, 1, 19, 28, 0, 20, 19  …  19, 24, 22, 20, 15, 14, 22, 18, 6, 44], [23, 33, 31, 27, 21, 27, 38, 20, 0, 30  …  26, 28, 23, 26, 33, 30, 33, 29, 14, 52], [21, 31, 28, 24, 20, 27, 33, 19, 30, 0  …  22, 9, 23, 33, 32, 23, 15, 26, 25, 50]  …  [16, 32, 23, 20, 20, 26, 36, 19, 26, 22  …  0, 17, 18, 27, 27, 25, 23, 22, 24, 45], [28, 35, 31, 30, 25, 24, 28, 24, 28, 9  …  17, 0, 22, 34, 31, 32, 24, 17, 18, 57], [22, 29, 29, 18, 23, 28, 35, 22, 23, 23  …  18, 22, 0, 29, 30, 23, 29, 21, 21, 51], [25, 28, 18, 27, 21, 28, 32, 20, 26, 33  …  27, 34, 29, 0, 23, 29, 27, 29, 18, 54], [23, 31, 27, 28, 16, 28, 39, 15, 33, 32  …  27, 31, 30, 23, 0, 24, 28, 26, 19, 52], [17, 38, 19, 25, 15, 26, 30, 14, 30, 23  …  25, 32, 23, 29, 24, 0, 8, 23, 18, 46], [16, 30, 27, 23, 22, 23, 22, 22, 33, 15  …  23, 24, 29, 27, 28, 8, 0, 24, 20, 45], [19, 29, 25, 25, 19, 23, 34, 18, 29, 26  …  22, 17, 21, 29, 26, 23, 24, 0, 21, 48], [18, 23, 20, 19, 7, 20, 24, 6, 14, 25  …  24, 18, 21, 18, 19, 18, 20, 21, 0, 47], [29, 60, 50, 53, 43, 53, 56, 44, 52, 50  …  45, 57, 51, 54, 52, 46, 45, 48, 47, 0]])"
      ]
     },
     "execution_count": 12,
     "metadata": {},
     "output_type": "execute_result"
    }
   ],
   "source": [
    "nbClients, nbFacilities, nbOpened, distances = parseInput(\"./instances/pmed35.dat\")"
   ]
  },
  {
   "cell_type": "code",
   "execution_count": 13,
   "metadata": {},
   "outputs": [
    {
     "name": "stdout",
     "output_type": "stream",
     "text": [
      "Clients: 800\n",
      "Facilities: 800\n",
      "Opened: 5\n",
      "Initial cost: 12983\n",
      "10 iterations\n",
      "20 iterations\n",
      "End of local descent\n",
      "22 iterations\n",
      "Final cost: 10400\n",
      "Selected facilities: 94 114 217 305 349 "
     ]
    }
   ],
   "source": [
    "filename = \"./instances/pmed35.dat\"\n",
    "nbClients, nbFacilities, nbOpened, distances = parseInput(filename)\n",
    "println(\"Clients: \", nbClients, \"\\nFacilities: \", nbFacilities, \"\\nOpened: \", nbOpened)\n",
    "\n",
    "x0 = [j<= nbOpened for j in 1:nbFacilities]\n",
    "\n",
    "data = Ls_data(nbOpened,distances)\n",
    "localDescent!(data)\n",
    "\n",
    "print(\"Selected facilities: \")\n",
    "for i in 1:data.nbClients\n",
    "    if data.isOpened[i]\n",
    "        print(i, \" \")\n",
    "    end\n",
    "end\n"
   ]
  },
  {
   "cell_type": "markdown",
   "metadata": {
    "collapsed": true
   },
   "source": [
    "### Questions on heuristics"
   ]
  },
  {
   "cell_type": "markdown",
   "metadata": {},
   "source": [
    "- The local search implemented above is not incremental. Turn it into an incremental evalutation\n",
    "- Implement one of the following metaheuristics on this problem\n",
    "    - Simulated annealing\n",
    "    - Genetic algorithm\n",
    "    - Taboo search"
   ]
  },
  {
   "cell_type": "markdown",
   "metadata": {},
   "source": [
    "## MILP\n",
    "\n",
    "We are now going to see how MILP solvers can be used. Using solvers requires additional packages. Only execute the following cell if these packages are not yet installed on your computer."
   ]
  },
  {
   "cell_type": "code",
   "execution_count": 14,
   "metadata": {},
   "outputs": [
    {
     "name": "stderr",
     "output_type": "stream",
     "text": [
      "\u001b[32m\u001b[1m   Updating\u001b[22m\u001b[39m registry at `~/.julia/registries/General`\n"
     ]
    },
    {
     "name": "stdout",
     "output_type": "stream",
     "text": [
      "\u001b[?25l\u001b[2K"
     ]
    },
    {
     "name": "stderr",
     "output_type": "stream",
     "text": [
      "\u001b[32m\u001b[1m   Updating\u001b[22m\u001b[39m git-repo `https://github.com/JuliaRegistries/General.git`\n"
     ]
    },
    {
     "name": "stdout",
     "output_type": "stream",
     "text": [
      "\u001b[?25h"
     ]
    },
    {
     "name": "stderr",
     "output_type": "stream",
     "text": [
      "\u001b[32m\u001b[1m  Resolving\u001b[22m\u001b[39m package versions...\n",
      "\u001b[32m\u001b[1m   Updating\u001b[22m\u001b[39m `~/.julia/environments/v1.4/Project.toml`\n",
      "\u001b[90m [no changes]\u001b[39m\n",
      "\u001b[32m\u001b[1m   Updating\u001b[22m\u001b[39m `~/.julia/environments/v1.4/Manifest.toml`\n",
      "\u001b[90m [no changes]\u001b[39m\n",
      "\u001b[32m\u001b[1m  Resolving\u001b[22m\u001b[39m package versions...\n",
      "\u001b[32m\u001b[1m   Updating\u001b[22m\u001b[39m `~/.julia/environments/v1.4/Project.toml`\n",
      "\u001b[90m [no changes]\u001b[39m\n",
      "\u001b[32m\u001b[1m   Updating\u001b[22m\u001b[39m `~/.julia/environments/v1.4/Manifest.toml`\n",
      "\u001b[90m [no changes]\u001b[39m\n"
     ]
    }
   ],
   "source": [
    "using Pkg\n",
    "Pkg.add(\"JuMP\")\n",
    "Pkg.add(\"Cbc\")"
   ]
  },
  {
   "cell_type": "markdown",
   "metadata": {},
   "source": [
    "Importing the packages takes longer the first time because of precompiling"
   ]
  },
  {
   "cell_type": "code",
   "execution_count": 15,
   "metadata": {},
   "outputs": [],
   "source": [
    "using JuMP, Cbc"
   ]
  },
  {
   "cell_type": "code",
   "execution_count": 16,
   "metadata": {},
   "outputs": [
    {
     "name": "stdout",
     "output_type": "stream",
     "text": [
      "Clients: 100\n",
      "Facilities: 100\n",
      "Opened: 5\n",
      "\n",
      "=========== \n",
      "MIP\n",
      "=========== \n",
      "objective_value(model) = 5819.0\n",
      "Welcome to the CBC MILP Solver \n",
      "Version: 2.10.3 \n",
      "Build Date: Jan  1 1970 \n",
      "\n",
      "command line - Cbc_C_Interface -solve -quit (default strategy 1)\n",
      "Continuous objective value is 5819 - 0.39 seconds\n",
      "Cgl0004I processed model has 10101 rows, 10100 columns (10100 integer (10100 of which binary)) and 30100 elements\n",
      "Cbc0012I Integer solution of 5819 found by DiveCoefficient after 0 iterations and 0 nodes (0.55 seconds)\n",
      "Cbc0001I Search completed - best objective 5819, took 0 iterations and 0 nodes (0.56 seconds)\n",
      "Cbc0035I Maximum depth 0, 0 variables fixed on reduced cost\n",
      "Cuts at root node changed objective from 5819 to 5819\n",
      "Probing was tried 0 times and created 0 cuts of which 0 were active after adding rounds of cuts (0.000 seconds)\n",
      "Gomory was tried 0 times and created 0 cuts of which 0 were active after adding rounds of cuts (0.000 seconds)\n",
      "Knapsack was tried 0 times and created 0 cuts of which 0 were active after adding rounds of cuts (0.000 seconds)\n",
      "Clique was tried 0 times and created 0 cuts of which 0 were active after adding rounds of cuts (0.000 seconds)\n",
      "MixedIntegerRounding2 was tried 0 times and created 0 cuts of which 0 were active after adding rounds of cuts (0.000 seconds)\n",
      "FlowCover was tried 0 times and created 0 cuts of which 0 were active after adding rounds of cuts (0.000 seconds)\n",
      "TwoMirCuts was tried 0 times and created 0 cuts of which 0 were active after adding rounds of cuts (0.000 seconds)\n",
      "ZeroHalf was tried 0 times and created 0 cuts of which 0 were active after adding rounds of cuts (0.000 seconds)\n",
      "\n",
      "Result - Optimal solution found\n",
      "\n",
      "Objective value:                5819.00000000\n",
      "Enumerated nodes:               0\n",
      "Total iterations:               0\n",
      "Time (CPU seconds):             0.58\n",
      "Time (Wallclock seconds):       0.64\n",
      "\n",
      "Total time (CPU seconds):       0.58   (Wallclock seconds):       0.64\n",
      "\n"
     ]
    },
    {
     "data": {
      "text/plain": [
       "5819.0"
      ]
     },
     "execution_count": 16,
     "metadata": {},
     "output_type": "execute_result"
    }
   ],
   "source": [
    "filename = \"./instances/pmed1.dat\"\n",
    "nbClients, nbFacilities, nbOpened, distances = parseInput(filename)\n",
    "println(\"Clients: \", nbClients, \"\\nFacilities: \", nbFacilities, \"\\nOpened: \", nbOpened)\n",
    "\n",
    "println()\n",
    "println(\"=========== \")\n",
    "println(\"MIP\")\n",
    "println(\"=========== \")\n",
    "\n",
    "\n",
    "model = Model(Cbc.Optimizer)\n",
    "\n",
    "# Variables\n",
    "@variable(model, y[1:nbFacilities], Bin)\n",
    "@variable(model, x[1:nbClients, 1:nbFacilities], Bin)\n",
    "\n",
    "# Constraints\n",
    "for client in 1:nbClients\n",
    "     @constraint(model, sum(x[client, fac] for fac in 1:nbFacilities)  == 1)\n",
    "     for fac in 1:nbFacilities\n",
    "         @constraint(model, x[client, fac] <= y[fac])\n",
    "     end\n",
    "end\n",
    "@constraint(model, sum(y[fac] for fac in 1:nbFacilities) == nbOpened)\n",
    "\n",
    "# Objective\n",
    "@objective(model, Min, sum(\n",
    "        x[client,fac]*distances[client][fac] for fac in 1:nbFacilities, client in 1:nbClients))\n",
    "\n",
    "# Resolution\n",
    "optimize!(model)\n",
    "\n",
    "@show objective_value(model)                             "
   ]
  },
  {
   "cell_type": "markdown",
   "metadata": {
    "collapsed": true
   },
   "source": [
    "### Questions on MILP\n",
    "\n",
    "- Remove the constraint limiting the number of facilities, but add a fixed cost of 1000 by facility opened\n",
    "- Add a constraint that limits the number of clients served by a single factory to 20"
   ]
  },
  {
   "cell_type": "code",
   "execution_count": null,
   "metadata": {},
   "outputs": [],
   "source": []
  }
 ],
 "metadata": {
  "kernelspec": {
   "display_name": "Julia 1.4.1",
   "language": "julia",
   "name": "julia-1.4"
  },
  "language_info": {
   "file_extension": ".jl",
   "mimetype": "application/julia",
   "name": "julia",
   "version": "1.4.1"
  }
 },
 "nbformat": 4,
 "nbformat_minor": 2
}
