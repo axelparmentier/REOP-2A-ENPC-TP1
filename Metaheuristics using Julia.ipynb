{
 "cells": [
  {
   "cell_type": "markdown",
   "metadata": {},
   "source": [
    "# TO DO for next year\n",
    "Code the general structure of the metaheuristics, but let them code the inner structure of the functions\n",
    "move to julia 1.0\n",
    "découper plus le TP"
   ]
  },
  {
   "cell_type": "markdown",
   "metadata": {},
   "source": [
    "# Quick introduction to Julia\n",
    "\n",
    "(Courtesy from Vincent Leclère)"
   ]
  },
  {
   "cell_type": "markdown",
   "metadata": {},
   "source": [
    "## What is a Jupyter notebook ?\n",
    "\n",
    "A Jupyter notebook is a document that contains\n",
    "+ text\n",
    "  - that can be formatted using Markdown\n",
    "  - that can contains maths using $\\LaTeX$\n",
    "+ code\n",
    "  - and we can interact with this\n",
    "  \n",
    "Un notebook is a succession of cells, each containing code or text. :\n",
    "+ double-click to edit a cell\n",
    "+ Ctrl-enter to execute a cell\n",
    "+ shift-enter to execute a cell and go to the next one\n",
    "+ Alt-enter to execute a cell and create a new one\n",
    "\n",
    "You can download your project as an .ipynb file"
   ]
  },
  {
   "cell_type": "markdown",
   "metadata": {},
   "source": [
    "## What is JuliaBox ?\n",
    "\n",
    "JuliaBox is a website giving you a session with Julia and Jupyter installed. You can therefore use these softwares without installing them on your computer.\n",
    "\n",
    "Attention, la session offert par JuliaBox dure 3h, au bout desquelles les calculs effectués sont perdus (mais pas le code). Donc, si d'un seul coup vous voyez des variables non-définies : pas d'affolement, il suffit de relancer le kernel (barre du haut) et recharger les cellules précédente."
   ]
  },
  {
   "cell_type": "markdown",
   "metadata": {},
   "source": [
    "## What is Julia ?\n",
    "​\n",
    "Julia is a recent programming language. It can be compared to python but desgined for scientific commputing and much faster in practice \n",
    "\n",
    "​\n",
    "Try to execute an modify the following cells:"
   ]
  },
  {
   "cell_type": "code",
   "execution_count": 3,
   "metadata": {
    "collapsed": false
   },
   "outputs": [
    {
     "data": {
      "text/plain": [
       "2"
      ]
     },
     "execution_count": 3,
     "metadata": {},
     "output_type": "execute_result"
    }
   ],
   "source": [
    "1+1"
   ]
  },
  {
   "cell_type": "code",
   "execution_count": 5,
   "metadata": {
    "collapsed": false
   },
   "outputs": [
    {
     "data": {
      "text/plain": [
       "0"
      ]
     },
     "execution_count": 5,
     "metadata": {},
     "output_type": "execute_result"
    }
   ],
   "source": [
    "a = [0 5 10 15]\n",
    "a[1]"
   ]
  },
  {
   "cell_type": "code",
   "execution_count": 7,
   "metadata": {
    "collapsed": false
   },
   "outputs": [
    {
     "data": {
      "text/plain": [
       "4"
      ]
     },
     "execution_count": 7,
     "metadata": {},
     "output_type": "execute_result"
    }
   ],
   "source": [
    "length(a)"
   ]
  },
  {
   "cell_type": "code",
   "execution_count": 8,
   "metadata": {
    "collapsed": false
   },
   "outputs": [
    {
     "name": "stdout",
     "output_type": "stream",
     "text": [
      "itération 1\n",
      "itération 2\n",
      "itération 3\n",
      "itération 4\n",
      "itération 5\n"
     ]
    }
   ],
   "source": [
    "for i = 1:5\n",
    "    println(\"itération \",i)\n",
    "end"
   ]
  },
  {
   "cell_type": "code",
   "execution_count": 10,
   "metadata": {
    "collapsed": false
   },
   "outputs": [
    {
     "data": {
      "text/plain": [
       "factorielle (generic function with 1 method)"
      ]
     },
     "execution_count": 10,
     "metadata": {},
     "output_type": "execute_result"
    }
   ],
   "source": [
    "function factorielle(n)\n",
    "    res = 1\n",
    "    for i=1:n\n",
    "        res = res * i\n",
    "    end\n",
    "    return res\n",
    "end"
   ]
  },
  {
   "cell_type": "code",
   "execution_count": 11,
   "metadata": {
    "collapsed": false
   },
   "outputs": [
    {
     "data": {
      "text/plain": [
       "120"
      ]
     },
     "execution_count": 11,
     "metadata": {},
     "output_type": "execute_result"
    }
   ],
   "source": [
    "factorielle(5)"
   ]
  },
  {
   "cell_type": "markdown",
   "metadata": {},
   "source": [
    "# Facility Location problem considered"
   ]
  },
  {
   "cell_type": "markdown",
   "metadata": {},
   "source": [
    "Consider the facility location problem with $N$ clients, $M$ facilities, among which $p$ should be chosen. Matrix $(d_{ij})$ gives the distance of facility $i$ to client $j$\n",
    "\n",
    "\\begin{eqnarray}\n",
    "\\min f(x,y) &=& \\sum_{i=1}^N \\sum_{i=1}^M d_{ij} x_{ij} \\\\\n",
    "\\text{s.c. } \\sum_{j=1}^M y_j &= &p\\\\\n",
    "\\sum_{j=1}^M x_{ij} &=& 1 \\text{    } i=1,\\cdots ,N \\\\\n",
    "x_{ij} &\\leq & y_j \\text{    } i=1,\\cdots ,N; j=1,\\cdots ,M \\\\\n",
    "x_{ij} &\\geq & 0 \\text{    }  i=1,\\cdots ,N; j=1,\\cdots ,M \\\\\n",
    "y_j & \\in & \\{0,1\\}  \\text{    }  j=1,\\cdots ,M\n",
    "\\end{eqnarray}"
   ]
  },
  {
   "cell_type": "markdown",
   "metadata": {},
   "source": [
    "# Parse instances \n",
    "\n",
    "The following function enables to read an instance"
   ]
  },
  {
   "cell_type": "code",
   "execution_count": 2,
   "metadata": {
    "collapsed": false
   },
   "outputs": [
    {
     "data": {
      "text/plain": [
       "parseInput (generic function with 1 method)"
      ]
     },
     "execution_count": 2,
     "metadata": {},
     "output_type": "execute_result"
    }
   ],
   "source": [
    "function parseInput(filename)\n",
    "    file_l = open(filename)     \n",
    "    lin = readline(file_l)\n",
    "    nbc, nbf, nbo = map(x->parse(Int16,x), split(lin, \" \"))\n",
    "    d = Array{Array{Int64}}(nbc)\n",
    "    for ln in enumerate(eachline(file_l))\n",
    "        vl = split(ln[2], \" \")\n",
    "        d[ln[1]] = map(x->parse(Int16,x), vl[1:nbc])\n",
    "    end\n",
    "    close(file_l)\n",
    "    return (nbc, nbf, nbo, d)\n",
    "end "
   ]
  },
  {
   "cell_type": "markdown",
   "metadata": {},
   "source": [
    "# Local search:"
   ]
  },
  {
   "cell_type": "markdown",
   "metadata": {},
   "source": [
    "#### Compute cost "
   ]
  },
  {
   "cell_type": "code",
   "execution_count": 13,
   "metadata": {
    "collapsed": false
   },
   "outputs": [
    {
     "data": {
      "text/plain": [
       "computeCost (generic function with 1 method)"
      ]
     },
     "execution_count": 13,
     "metadata": {},
     "output_type": "execute_result"
    }
   ],
   "source": [
    "function computeClientCost(client, isOpened, nearestFac, distances)\n",
    "    for fac in nearestFac[client]\n",
    "        if isOpened[fac]\n",
    "           return distances[client][fac] \n",
    "        end\n",
    "    end\n",
    "end\n",
    "\n",
    "function computeCost(isOpened, nearestFac, distances)\n",
    "    result::Int = 0\n",
    "    for i in 1:length(distances)\n",
    "       result += computeClientCost(i, isOpened, nearestFac, distances) \n",
    "    end\n",
    "    return result\n",
    "end"
   ]
  },
  {
   "cell_type": "markdown",
   "metadata": {},
   "source": [
    "#### Data structure used by the heuristic"
   ]
  },
  {
   "cell_type": "code",
   "execution_count": 4,
   "metadata": {
    "collapsed": false
   },
   "outputs": [],
   "source": [
    "mutable struct Ls_data \n",
    "    # Instance\n",
    "    nbClients::Int\n",
    "    nbFacilities::Int\n",
    "    nbOpened::Int\n",
    "    distances::Array{Array{Int64}}\n",
    "    nearestFacilitiesOfClient::Array{Array{Int,1}}\n",
    "\n",
    "    # Current solution\n",
    "    isOpened::Array{Bool,1}\n",
    "    cost::Int\n",
    "    \n",
    "    # best solution\n",
    "    bestIsOpen::Array{Int, 1}\n",
    "    bestCost::Int\n",
    "\n",
    "    function Ls_data(nbOpened_l, distances_l)\n",
    "        nbClients = length(distances_l)\n",
    "        nbFacilities = length(distances_l)\n",
    "        nbOpened = nbOpened_l\n",
    "        distances = distances_l\n",
    "        nearestFacilitiesOfClient = [sortperm(distances[i]) for i in 1:nbClients]\n",
    "        \n",
    "        isOpened = [j<= nbOpened for j in 1:nbFacilities]\n",
    "        cost = computeCost(isOpened,nearestFacilitiesOfClient,distances)\n",
    "\n",
    "        bestIsOpen = isOpened\n",
    "        bestCost = 1e10\n",
    "    \n",
    "        new(nbClients, nbFacilities, nbOpened, distances, nearestFacilitiesOfClient, isOpened, cost, bestIsOpen, bestCost)\n",
    "    end\n",
    "end\n"
   ]
  },
  {
   "cell_type": "markdown",
   "metadata": {},
   "source": [
    "#### Swap neighborhood (non-incremental eveluation) and local descent algorithm"
   ]
  },
  {
   "cell_type": "code",
   "execution_count": 15,
   "metadata": {
    "collapsed": false
   },
   "outputs": [
    {
     "data": {
      "text/plain": [
       "localDescent! (generic function with 1 method)"
      ]
     },
     "execution_count": 15,
     "metadata": {},
     "output_type": "execute_result"
    }
   ],
   "source": [
    "function swap!(i::Int, j::Int, data::Ls_data)\n",
    "    if data.isOpened[i] == data.isOpened[j]\n",
    "        throw()\n",
    "    end\n",
    "    previous_cost = data.cost\n",
    "    data.isOpened[i] = !data.isOpened[i];\n",
    "    data.isOpened[j] = !data.isOpened[j];\n",
    "    data.cost = computeCost(data.isOpened, data.nearestFacilitiesOfClient,data.distances)\n",
    "    return data.cost - previous_cost\n",
    "end\n",
    "\n",
    "function firstImproving!(data::Ls_data)\n",
    "    for i in 1:(data.nbFacilities - 1)\n",
    "        for j in (i+1):nbFacilities\n",
    "            if (data.isOpened[i] != data.isOpened[j])\n",
    "                if (swap!(i,j,data)<0)\n",
    "                    return true;\n",
    "                else\n",
    "                    swap!(i,j,data)\n",
    "                end\n",
    "            end\n",
    "        end\n",
    "    end\n",
    "    return false;\n",
    "end\n",
    "\n",
    "function localDescent!(data::Ls_data)\n",
    "   println(\"initialCost \", data.cost)\n",
    "    i = 0\n",
    "    while(firstImproving!(data))\n",
    "        i+=1\n",
    "        if (i%10 == 0)\n",
    "            println(i, \" iterations\")\n",
    "        end\n",
    "    end\n",
    "    println(\"End of Local Descent\")\n",
    "    println(i, \"iterations\")\n",
    "    println(\"final cost:\", data.cost)\n",
    "end"
   ]
  },
  {
   "cell_type": "markdown",
   "metadata": {},
   "source": [
    "#### Launching the Local Descent"
   ]
  },
  {
   "cell_type": "code",
   "execution_count": 16,
   "metadata": {
    "collapsed": false
   },
   "outputs": [
    {
     "name": "stdout",
     "output_type": "stream",
     "text": [
      "Clients:800\n",
      "Facilities800\n",
      "Opened:5initialCost 12983\n",
      "End of Local Descent\n",
      "22iterations\n",
      "final cost:10400\n",
      "94 114 217 305 349 "
     ]
    }
   ],
   "source": [
    "filename = \"./instances/pmed35.dat\"\n",
    "nbClients, nbFacilities, nbOpened, distances = parseInput(filename)\n",
    "print(\"Clients:\", nbClients, \"\\nFacilities\", nbFacilities, \"\\nOpened:\", nbOpened)\n",
    "\n",
    "# x0 = Array{Bool,1}(nbFacilities)\n",
    "x0 = [j<= nbOpened for j in 1:nbFacilities];\n",
    "\n",
    "data = Ls_data(nbOpened,distances);\n",
    "localDescent!(data)\n",
    "\n",
    "for i in 1:data.nbClients\n",
    "    if data.isOpened[i]\n",
    "        print(i, \" \")\n",
    "    end\n",
    "end\n"
   ]
  },
  {
   "cell_type": "markdown",
   "metadata": {
    "collapsed": true
   },
   "source": [
    "# Questions on heuristics"
   ]
  },
  {
   "cell_type": "markdown",
   "metadata": {},
   "source": [
    "- The local search implemented above is not incremental. Turn it into an incremental evalutation\n",
    "- Implement one of the following metaheuristic on the problem\n",
    "    - Simulated annealing\n",
    "    - Genetic algorithm\n",
    "    - taboo search"
   ]
  },
  {
   "cell_type": "markdown",
   "metadata": {},
   "source": [
    "# MILP\n",
    "\n",
    "We are now going to see how MILP solvers can be used. Using solvers requires to use some packages. Execute the following cell only on you computer if the packages are not installed."
   ]
  },
  {
   "cell_type": "code",
   "execution_count": null,
   "metadata": {
    "collapsed": true
   },
   "outputs": [],
   "source": [
    "Pkg.add(\"JuMP\")\n",
    "Pkg.add(\"Cbc\")"
   ]
  },
  {
   "cell_type": "code",
   "execution_count": 13,
   "metadata": {
    "collapsed": false
   },
   "outputs": [
    {
     "name": "stdout",
     "output_type": "stream",
     "text": [
      "Clients:100\n",
      "Facilities100\n",
      "Opened:5\n",
      " =========== \n",
      "MIP\n",
      " =========== \n",
      "getobjectivevalue(model) = 5819.0\n",
      "Cgl0006I 100 SOS (10000 members out of 10100) with 0 overlaps - too much overlap or too many others\n",
      "Cgl0004I processed model has 10101 rows, 10100 columns (10100 integer (10100 of which binary)) and 30100 elements\n",
      "Cutoff increment increased from 1e-05 to 0.9999\n",
      "Cbc0038I Initial state - 0 integers unsatisfied sum - 0\n",
      "Cbc0038I Solution found of 5819\n",
      "Cbc0038I Before mini branch and bound, 10100 integers at bound fixed and 0 continuous\n",
      "Cbc0038I Mini branch and bound did not improve solution (0.48 seconds)\n",
      "Cbc0038I After 0.48 seconds - Feasibility pump exiting with objective of 5819 - took 0.01 seconds\n",
      "Cbc0045I Heuristic feasibility pump took 0.00921 seconds (good)\n",
      "BFeasible (0) - obj 5819 5819\n",
      "Cbc0012I Integer solution of 5819 found by feasibility pump after 0 iterations and 0 nodes (0.48 seconds)\n",
      "Cbc0001I Search completed - best objective 5819, took 0 iterations and 0 nodes (0.49 seconds)\n",
      "Cbc0035I Maximum depth 0, 0 variables fixed on reduced cost\n",
      "BFeasible (0) - obj 5819 5819\n",
      "Total time (CPU seconds):       0.51   (Wallclock seconds):       0.53\n",
      "\n"
     ]
    },
    {
     "data": {
      "text/plain": [
       "5819.0"
      ]
     },
     "execution_count": 13,
     "metadata": {},
     "output_type": "execute_result"
    }
   ],
   "source": [
    "filename = \"./instances/pmed1.dat\"\n",
    "nbClients, nbFacilities, nbOpened, distances = parseInput(filename)\n",
    "println(\"Clients:\", nbClients, \"\\nFacilities\", nbFacilities, \"\\nOpened:\", nbOpened)\n",
    "\n",
    "\n",
    "println(\" =========== \")\n",
    "println(\"MIP\")\n",
    "println(\" =========== \")\n",
    "\n",
    "using JuMP, Cbc\n",
    "model = Model(solver=CbcSolver(logLevel=6))\n",
    "\n",
    "@variable(model, y[1:nbFacilities], Bin)\n",
    "@variable(model, x[1:nbClients, 1:nbFacilities], Bin)\n",
    "for cl in 1:nbClients\n",
    "     @constraint(model, sum(x[cl,fac] for fac in 1:nbFacilities)  == 1)\n",
    "     for fac in 1:nbFacilities\n",
    "         @constraint(model, x[cl,fac] <= y[fac])\n",
    "     end\n",
    "end\n",
    "@constraint(model, sum(y[fac] for fac in 1:nbFacilities) == \n",
    "nbOpened)\n",
    "@objective(model, Min, sum(x[cl,fac]*distances[cl][fac] for fac in \n",
    "1:nbFacilities, cl in 1:nbClients))\n",
    "solve(model)\n",
    "@show getobjectivevalue(model)                             "
   ]
  },
  {
   "cell_type": "markdown",
   "metadata": {
    "collapsed": true
   },
   "source": [
    "## Questions\n",
    "\n",
    "- Remove the constraint limiting the number of facilities, but add a fixed cost of 1000 by facility opened\n",
    "- Add a constraint that limits the number of clients served by a factory to 20"
   ]
  }
 ],
 "metadata": {
  "kernelspec": {
   "display_name": "Julia 0.6.4",
   "language": "julia",
   "name": "julia-0.6"
  },
  "language_info": {
   "file_extension": ".jl",
   "mimetype": "application/julia",
   "name": "julia",
   "version": "0.6.4"
  }
 },
 "nbformat": 4,
 "nbformat_minor": 2
}
